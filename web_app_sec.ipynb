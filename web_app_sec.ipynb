{
  "nbformat": 4,
  "nbformat_minor": 0,
  "metadata": {
    "colab": {
      "name": "web-app-sec",
      "provenance": [],
      "collapsed_sections": [],
      "authorship_tag": "ABX9TyNr3YUSVR7EEc+WQyjod6dd",
      "include_colab_link": true
    },
    "kernelspec": {
      "name": "python3",
      "display_name": "Python 3"
    },
    "language_info": {
      "name": "python"
    }
  },
  "cells": [
    {
      "cell_type": "markdown",
      "metadata": {
        "id": "view-in-github",
        "colab_type": "text"
      },
      "source": [
        "<a href=\"https://colab.research.google.com/github/altiparmakzeynep/detecting-phishing-website-with-ml/blob/main/web_app_sec.ipynb\" target=\"_parent\"><img src=\"https://colab.research.google.com/assets/colab-badge.svg\" alt=\"Open In Colab\"/></a>"
      ]
    },
    {
      "cell_type": "code",
      "execution_count": 1,
      "metadata": {
        "id": "sAQAPFJ7NxNY"
      },
      "outputs": [],
      "source": [
        "import pandas as pd"
      ]
    },
    {
      "cell_type": "code",
      "source": [
        "#Downloading the phishing URLs file\n",
        "!wget http://data.phishtank.com/data/online-valid.csv"
      ],
      "metadata": {
        "colab": {
          "base_uri": "https://localhost:8080/"
        },
        "id": "RRFvtyZ8YXI7",
        "outputId": "40ab7193-daa4-4cd1-85ac-01842f6d9040"
      },
      "execution_count": 2,
      "outputs": [
        {
          "output_type": "stream",
          "name": "stdout",
          "text": [
            "--2022-05-27 07:18:27--  http://data.phishtank.com/data/online-valid.csv\n",
            "Resolving data.phishtank.com (data.phishtank.com)... 104.16.101.75, 104.17.177.85, 2606:4700::6810:654b, ...\n",
            "Connecting to data.phishtank.com (data.phishtank.com)|104.16.101.75|:80... connected.\n",
            "HTTP request sent, awaiting response... 301 Moved Permanently\n",
            "Location: https://data.phishtank.com/data/online-valid.csv [following]\n",
            "--2022-05-27 07:18:27--  https://data.phishtank.com/data/online-valid.csv\n",
            "Connecting to data.phishtank.com (data.phishtank.com)|104.16.101.75|:443... connected.\n",
            "HTTP request sent, awaiting response... 302 Found\n",
            "Location: https://cdn.phishtank.com/datadumps/verified_online.csv?Expires=1653635918&Signature=fHhEP4QuybkNGgaov4-Vk3ib2zodwcE0JmfgWvdfEIccFSSkiY7Is2zLn6onyUfSaM-QQsVW-oCmKdBRbDI2AfX9LSvgp1-wY9H5r0dYmgapMHGcUts3N~Y5EXi4yljVukTzgyxcchmvcyWFgsIWc03Tfikfs3PBs2CZS0uHHisdFBjdDzVp49Xj-VsyxmFVSjMj3CM0OV8UmfU7oxGLbQcxa-RTuDjO5cDj4D2hQWUwVc~fmna3PwNBHWuR7DxPSroO4TJotqKhEHYqElMoA8zNuRVTRh9xbjY~9kfoDaPYI0b~nras5poOQ~lQq-b1fL48vGYaAR1sw~G6QE4CFQ__&Key-Pair-Id=APKAILB45UG3RB4CSOJA [following]\n",
            "--2022-05-27 07:18:28--  https://cdn.phishtank.com/datadumps/verified_online.csv?Expires=1653635918&Signature=fHhEP4QuybkNGgaov4-Vk3ib2zodwcE0JmfgWvdfEIccFSSkiY7Is2zLn6onyUfSaM-QQsVW-oCmKdBRbDI2AfX9LSvgp1-wY9H5r0dYmgapMHGcUts3N~Y5EXi4yljVukTzgyxcchmvcyWFgsIWc03Tfikfs3PBs2CZS0uHHisdFBjdDzVp49Xj-VsyxmFVSjMj3CM0OV8UmfU7oxGLbQcxa-RTuDjO5cDj4D2hQWUwVc~fmna3PwNBHWuR7DxPSroO4TJotqKhEHYqElMoA8zNuRVTRh9xbjY~9kfoDaPYI0b~nras5poOQ~lQq-b1fL48vGYaAR1sw~G6QE4CFQ__&Key-Pair-Id=APKAILB45UG3RB4CSOJA\n",
            "Resolving cdn.phishtank.com (cdn.phishtank.com)... 104.17.177.85, 104.16.101.75, 2606:4700::6810:654b, ...\n",
            "Connecting to cdn.phishtank.com (cdn.phishtank.com)|104.17.177.85|:443... connected.\n",
            "HTTP request sent, awaiting response... 200 OK\n",
            "Length: unspecified [text/csv]\n",
            "Saving to: ‘online-valid.csv’\n",
            "\n",
            "online-valid.csv        [ <=>                ]   1.34M  --.-KB/s    in 0.09s   \n",
            "\n",
            "2022-05-27 07:18:28 (14.2 MB/s) - ‘online-valid.csv’ saved [1401338]\n",
            "\n"
          ]
        }
      ]
    },
    {
      "cell_type": "code",
      "source": [
        "data = pd.read_csv(\"online-valid.csv\")\n",
        "data.head()"
      ],
      "metadata": {
        "colab": {
          "base_uri": "https://localhost:8080/",
          "height": 357
        },
        "id": "GQz9tg5RYbQu",
        "outputId": "c4c7e3ad-537c-47d0-d573-b9a01fc1f7ae"
      },
      "execution_count": 3,
      "outputs": [
        {
          "output_type": "execute_result",
          "data": {
            "text/plain": [
              "   phish_id                                                url  \\\n",
              "0   7527459  https://famous-detailed-airbus.glitch.me/?emai...   \n",
              "1   7527458  https://allegrolokalne.shippingcargo-7.xyz/dbz...   \n",
              "2   7527457  http://n-2-6-auth-controll-com.preview-domain....   \n",
              "3   7527437          https://cmw6wnmf.cn/WebDesk/www/index.php   \n",
              "4   7527434                         https://ajkayoieyt172.vip/   \n",
              "\n",
              "                                    phish_detail_url  \\\n",
              "0  http://www.phishtank.com/phish_detail.php?phis...   \n",
              "1  http://www.phishtank.com/phish_detail.php?phis...   \n",
              "2  http://www.phishtank.com/phish_detail.php?phis...   \n",
              "3  http://www.phishtank.com/phish_detail.php?phis...   \n",
              "4  http://www.phishtank.com/phish_detail.php?phis...   \n",
              "\n",
              "             submission_time verified          verification_time online  \\\n",
              "0  2022-05-27T06:07:49+00:00      yes  2022-05-27T06:13:10+00:00    yes   \n",
              "1  2022-05-27T06:02:05+00:00      yes  2022-05-27T06:10:50+00:00    yes   \n",
              "2  2022-05-27T05:58:38+00:00      yes  2022-05-27T06:10:50+00:00    yes   \n",
              "3  2022-05-27T04:34:23+00:00      yes  2022-05-27T04:42:22+00:00    yes   \n",
              "4  2022-05-27T04:26:50+00:00      yes  2022-05-27T04:33:03+00:00    yes   \n",
              "\n",
              "       target  \n",
              "0       Other  \n",
              "1     Allegro  \n",
              "2       Other  \n",
              "3       Other  \n",
              "4  Amazon.com  "
            ],
            "text/html": [
              "\n",
              "  <div id=\"df-e50b5eac-dea0-49ef-be2b-3411c3bc8678\">\n",
              "    <div class=\"colab-df-container\">\n",
              "      <div>\n",
              "<style scoped>\n",
              "    .dataframe tbody tr th:only-of-type {\n",
              "        vertical-align: middle;\n",
              "    }\n",
              "\n",
              "    .dataframe tbody tr th {\n",
              "        vertical-align: top;\n",
              "    }\n",
              "\n",
              "    .dataframe thead th {\n",
              "        text-align: right;\n",
              "    }\n",
              "</style>\n",
              "<table border=\"1\" class=\"dataframe\">\n",
              "  <thead>\n",
              "    <tr style=\"text-align: right;\">\n",
              "      <th></th>\n",
              "      <th>phish_id</th>\n",
              "      <th>url</th>\n",
              "      <th>phish_detail_url</th>\n",
              "      <th>submission_time</th>\n",
              "      <th>verified</th>\n",
              "      <th>verification_time</th>\n",
              "      <th>online</th>\n",
              "      <th>target</th>\n",
              "    </tr>\n",
              "  </thead>\n",
              "  <tbody>\n",
              "    <tr>\n",
              "      <th>0</th>\n",
              "      <td>7527459</td>\n",
              "      <td>https://famous-detailed-airbus.glitch.me/?emai...</td>\n",
              "      <td>http://www.phishtank.com/phish_detail.php?phis...</td>\n",
              "      <td>2022-05-27T06:07:49+00:00</td>\n",
              "      <td>yes</td>\n",
              "      <td>2022-05-27T06:13:10+00:00</td>\n",
              "      <td>yes</td>\n",
              "      <td>Other</td>\n",
              "    </tr>\n",
              "    <tr>\n",
              "      <th>1</th>\n",
              "      <td>7527458</td>\n",
              "      <td>https://allegrolokalne.shippingcargo-7.xyz/dbz...</td>\n",
              "      <td>http://www.phishtank.com/phish_detail.php?phis...</td>\n",
              "      <td>2022-05-27T06:02:05+00:00</td>\n",
              "      <td>yes</td>\n",
              "      <td>2022-05-27T06:10:50+00:00</td>\n",
              "      <td>yes</td>\n",
              "      <td>Allegro</td>\n",
              "    </tr>\n",
              "    <tr>\n",
              "      <th>2</th>\n",
              "      <td>7527457</td>\n",
              "      <td>http://n-2-6-auth-controll-com.preview-domain....</td>\n",
              "      <td>http://www.phishtank.com/phish_detail.php?phis...</td>\n",
              "      <td>2022-05-27T05:58:38+00:00</td>\n",
              "      <td>yes</td>\n",
              "      <td>2022-05-27T06:10:50+00:00</td>\n",
              "      <td>yes</td>\n",
              "      <td>Other</td>\n",
              "    </tr>\n",
              "    <tr>\n",
              "      <th>3</th>\n",
              "      <td>7527437</td>\n",
              "      <td>https://cmw6wnmf.cn/WebDesk/www/index.php</td>\n",
              "      <td>http://www.phishtank.com/phish_detail.php?phis...</td>\n",
              "      <td>2022-05-27T04:34:23+00:00</td>\n",
              "      <td>yes</td>\n",
              "      <td>2022-05-27T04:42:22+00:00</td>\n",
              "      <td>yes</td>\n",
              "      <td>Other</td>\n",
              "    </tr>\n",
              "    <tr>\n",
              "      <th>4</th>\n",
              "      <td>7527434</td>\n",
              "      <td>https://ajkayoieyt172.vip/</td>\n",
              "      <td>http://www.phishtank.com/phish_detail.php?phis...</td>\n",
              "      <td>2022-05-27T04:26:50+00:00</td>\n",
              "      <td>yes</td>\n",
              "      <td>2022-05-27T04:33:03+00:00</td>\n",
              "      <td>yes</td>\n",
              "      <td>Amazon.com</td>\n",
              "    </tr>\n",
              "  </tbody>\n",
              "</table>\n",
              "</div>\n",
              "      <button class=\"colab-df-convert\" onclick=\"convertToInteractive('df-e50b5eac-dea0-49ef-be2b-3411c3bc8678')\"\n",
              "              title=\"Convert this dataframe to an interactive table.\"\n",
              "              style=\"display:none;\">\n",
              "        \n",
              "  <svg xmlns=\"http://www.w3.org/2000/svg\" height=\"24px\"viewBox=\"0 0 24 24\"\n",
              "       width=\"24px\">\n",
              "    <path d=\"M0 0h24v24H0V0z\" fill=\"none\"/>\n",
              "    <path d=\"M18.56 5.44l.94 2.06.94-2.06 2.06-.94-2.06-.94-.94-2.06-.94 2.06-2.06.94zm-11 1L8.5 8.5l.94-2.06 2.06-.94-2.06-.94L8.5 2.5l-.94 2.06-2.06.94zm10 10l.94 2.06.94-2.06 2.06-.94-2.06-.94-.94-2.06-.94 2.06-2.06.94z\"/><path d=\"M17.41 7.96l-1.37-1.37c-.4-.4-.92-.59-1.43-.59-.52 0-1.04.2-1.43.59L10.3 9.45l-7.72 7.72c-.78.78-.78 2.05 0 2.83L4 21.41c.39.39.9.59 1.41.59.51 0 1.02-.2 1.41-.59l7.78-7.78 2.81-2.81c.8-.78.8-2.07 0-2.86zM5.41 20L4 18.59l7.72-7.72 1.47 1.35L5.41 20z\"/>\n",
              "  </svg>\n",
              "      </button>\n",
              "      \n",
              "  <style>\n",
              "    .colab-df-container {\n",
              "      display:flex;\n",
              "      flex-wrap:wrap;\n",
              "      gap: 12px;\n",
              "    }\n",
              "\n",
              "    .colab-df-convert {\n",
              "      background-color: #E8F0FE;\n",
              "      border: none;\n",
              "      border-radius: 50%;\n",
              "      cursor: pointer;\n",
              "      display: none;\n",
              "      fill: #1967D2;\n",
              "      height: 32px;\n",
              "      padding: 0 0 0 0;\n",
              "      width: 32px;\n",
              "    }\n",
              "\n",
              "    .colab-df-convert:hover {\n",
              "      background-color: #E2EBFA;\n",
              "      box-shadow: 0px 1px 2px rgba(60, 64, 67, 0.3), 0px 1px 3px 1px rgba(60, 64, 67, 0.15);\n",
              "      fill: #174EA6;\n",
              "    }\n",
              "\n",
              "    [theme=dark] .colab-df-convert {\n",
              "      background-color: #3B4455;\n",
              "      fill: #D2E3FC;\n",
              "    }\n",
              "\n",
              "    [theme=dark] .colab-df-convert:hover {\n",
              "      background-color: #434B5C;\n",
              "      box-shadow: 0px 1px 3px 1px rgba(0, 0, 0, 0.15);\n",
              "      filter: drop-shadow(0px 1px 2px rgba(0, 0, 0, 0.3));\n",
              "      fill: #FFFFFF;\n",
              "    }\n",
              "  </style>\n",
              "\n",
              "      <script>\n",
              "        const buttonEl =\n",
              "          document.querySelector('#df-e50b5eac-dea0-49ef-be2b-3411c3bc8678 button.colab-df-convert');\n",
              "        buttonEl.style.display =\n",
              "          google.colab.kernel.accessAllowed ? 'block' : 'none';\n",
              "\n",
              "        async function convertToInteractive(key) {\n",
              "          const element = document.querySelector('#df-e50b5eac-dea0-49ef-be2b-3411c3bc8678');\n",
              "          const dataTable =\n",
              "            await google.colab.kernel.invokeFunction('convertToInteractive',\n",
              "                                                     [key], {});\n",
              "          if (!dataTable) return;\n",
              "\n",
              "          const docLinkHtml = 'Like what you see? Visit the ' +\n",
              "            '<a target=\"_blank\" href=https://colab.research.google.com/notebooks/data_table.ipynb>data table notebook</a>'\n",
              "            + ' to learn more about interactive tables.';\n",
              "          element.innerHTML = '';\n",
              "          dataTable['output_type'] = 'display_data';\n",
              "          await google.colab.output.renderOutput(dataTable, element);\n",
              "          const docLink = document.createElement('div');\n",
              "          docLink.innerHTML = docLinkHtml;\n",
              "          element.appendChild(docLink);\n",
              "        }\n",
              "      </script>\n",
              "    </div>\n",
              "  </div>\n",
              "  "
            ]
          },
          "metadata": {},
          "execution_count": 3
        }
      ]
    },
    {
      "cell_type": "code",
      "source": [
        "data.shape"
      ],
      "metadata": {
        "colab": {
          "base_uri": "https://localhost:8080/"
        },
        "id": "VA5rOTxxYg2Y",
        "outputId": "8def734c-e45f-4f61-bf6e-a97ac56bd0b2"
      },
      "execution_count": 5,
      "outputs": [
        {
          "output_type": "execute_result",
          "data": {
            "text/plain": [
              "(7264, 8)"
            ]
          },
          "metadata": {},
          "execution_count": 5
        }
      ]
    },
    {
      "cell_type": "code",
      "source": [
        "#Random 100 phishing URLs\n",
        "phishurl = data.sample(n = 100, random_state = 12).copy()\n",
        "phishurl = phishurl.reset_index(drop=True)\n",
        "phishurl.head()"
      ],
      "metadata": {
        "colab": {
          "base_uri": "https://localhost:8080/",
          "height": 357
        },
        "id": "7ZYuOs9RYnAs",
        "outputId": "7ab4348d-6f42-4837-abf9-f617dd15f431"
      },
      "execution_count": 6,
      "outputs": [
        {
          "output_type": "execute_result",
          "data": {
            "text/plain": [
              "   phish_id                                                url  \\\n",
              "0   7336947        https://walldesign.com.tr/admin/model/user/   \n",
              "1   7518481                              https://hex-dao.app/#   \n",
              "2   7217942  https://sites.google.com/view/richcoff/bt-busi...   \n",
              "3   7390928             https://fredsamasont.blogspot.com/?m=0   \n",
              "4   6244495                https://sen-manole.firebaseapp.com/   \n",
              "\n",
              "                                    phish_detail_url  \\\n",
              "0  http://www.phishtank.com/phish_detail.php?phis...   \n",
              "1  http://www.phishtank.com/phish_detail.php?phis...   \n",
              "2  http://www.phishtank.com/phish_detail.php?phis...   \n",
              "3  http://www.phishtank.com/phish_detail.php?phis...   \n",
              "4  http://www.phishtank.com/phish_detail.php?phis...   \n",
              "\n",
              "             submission_time verified          verification_time online  \\\n",
              "0  2021-11-02T14:49:39+00:00      yes  2021-11-02T18:31:00+00:00    yes   \n",
              "1  2022-05-17T04:32:35+00:00      yes  2022-05-17T04:42:58+00:00    yes   \n",
              "2  2021-07-07T09:59:50+00:00      yes  2021-07-20T07:07:24+00:00    yes   \n",
              "3  2021-12-20T11:56:33+00:00      yes  2021-12-20T18:22:59+00:00    yes   \n",
              "4  2019-10-17T21:22:11+00:00      yes  2019-10-17T21:23:57+00:00    yes   \n",
              "\n",
              "   target  \n",
              "0   Other  \n",
              "1   Other  \n",
              "2   Other  \n",
              "3   Other  \n",
              "4  Orange  "
            ],
            "text/html": [
              "\n",
              "  <div id=\"df-b5fcb5e7-9aa2-474c-bc71-a588b93df4d9\">\n",
              "    <div class=\"colab-df-container\">\n",
              "      <div>\n",
              "<style scoped>\n",
              "    .dataframe tbody tr th:only-of-type {\n",
              "        vertical-align: middle;\n",
              "    }\n",
              "\n",
              "    .dataframe tbody tr th {\n",
              "        vertical-align: top;\n",
              "    }\n",
              "\n",
              "    .dataframe thead th {\n",
              "        text-align: right;\n",
              "    }\n",
              "</style>\n",
              "<table border=\"1\" class=\"dataframe\">\n",
              "  <thead>\n",
              "    <tr style=\"text-align: right;\">\n",
              "      <th></th>\n",
              "      <th>phish_id</th>\n",
              "      <th>url</th>\n",
              "      <th>phish_detail_url</th>\n",
              "      <th>submission_time</th>\n",
              "      <th>verified</th>\n",
              "      <th>verification_time</th>\n",
              "      <th>online</th>\n",
              "      <th>target</th>\n",
              "    </tr>\n",
              "  </thead>\n",
              "  <tbody>\n",
              "    <tr>\n",
              "      <th>0</th>\n",
              "      <td>7336947</td>\n",
              "      <td>https://walldesign.com.tr/admin/model/user/</td>\n",
              "      <td>http://www.phishtank.com/phish_detail.php?phis...</td>\n",
              "      <td>2021-11-02T14:49:39+00:00</td>\n",
              "      <td>yes</td>\n",
              "      <td>2021-11-02T18:31:00+00:00</td>\n",
              "      <td>yes</td>\n",
              "      <td>Other</td>\n",
              "    </tr>\n",
              "    <tr>\n",
              "      <th>1</th>\n",
              "      <td>7518481</td>\n",
              "      <td>https://hex-dao.app/#</td>\n",
              "      <td>http://www.phishtank.com/phish_detail.php?phis...</td>\n",
              "      <td>2022-05-17T04:32:35+00:00</td>\n",
              "      <td>yes</td>\n",
              "      <td>2022-05-17T04:42:58+00:00</td>\n",
              "      <td>yes</td>\n",
              "      <td>Other</td>\n",
              "    </tr>\n",
              "    <tr>\n",
              "      <th>2</th>\n",
              "      <td>7217942</td>\n",
              "      <td>https://sites.google.com/view/richcoff/bt-busi...</td>\n",
              "      <td>http://www.phishtank.com/phish_detail.php?phis...</td>\n",
              "      <td>2021-07-07T09:59:50+00:00</td>\n",
              "      <td>yes</td>\n",
              "      <td>2021-07-20T07:07:24+00:00</td>\n",
              "      <td>yes</td>\n",
              "      <td>Other</td>\n",
              "    </tr>\n",
              "    <tr>\n",
              "      <th>3</th>\n",
              "      <td>7390928</td>\n",
              "      <td>https://fredsamasont.blogspot.com/?m=0</td>\n",
              "      <td>http://www.phishtank.com/phish_detail.php?phis...</td>\n",
              "      <td>2021-12-20T11:56:33+00:00</td>\n",
              "      <td>yes</td>\n",
              "      <td>2021-12-20T18:22:59+00:00</td>\n",
              "      <td>yes</td>\n",
              "      <td>Other</td>\n",
              "    </tr>\n",
              "    <tr>\n",
              "      <th>4</th>\n",
              "      <td>6244495</td>\n",
              "      <td>https://sen-manole.firebaseapp.com/</td>\n",
              "      <td>http://www.phishtank.com/phish_detail.php?phis...</td>\n",
              "      <td>2019-10-17T21:22:11+00:00</td>\n",
              "      <td>yes</td>\n",
              "      <td>2019-10-17T21:23:57+00:00</td>\n",
              "      <td>yes</td>\n",
              "      <td>Orange</td>\n",
              "    </tr>\n",
              "  </tbody>\n",
              "</table>\n",
              "</div>\n",
              "      <button class=\"colab-df-convert\" onclick=\"convertToInteractive('df-b5fcb5e7-9aa2-474c-bc71-a588b93df4d9')\"\n",
              "              title=\"Convert this dataframe to an interactive table.\"\n",
              "              style=\"display:none;\">\n",
              "        \n",
              "  <svg xmlns=\"http://www.w3.org/2000/svg\" height=\"24px\"viewBox=\"0 0 24 24\"\n",
              "       width=\"24px\">\n",
              "    <path d=\"M0 0h24v24H0V0z\" fill=\"none\"/>\n",
              "    <path d=\"M18.56 5.44l.94 2.06.94-2.06 2.06-.94-2.06-.94-.94-2.06-.94 2.06-2.06.94zm-11 1L8.5 8.5l.94-2.06 2.06-.94-2.06-.94L8.5 2.5l-.94 2.06-2.06.94zm10 10l.94 2.06.94-2.06 2.06-.94-2.06-.94-.94-2.06-.94 2.06-2.06.94z\"/><path d=\"M17.41 7.96l-1.37-1.37c-.4-.4-.92-.59-1.43-.59-.52 0-1.04.2-1.43.59L10.3 9.45l-7.72 7.72c-.78.78-.78 2.05 0 2.83L4 21.41c.39.39.9.59 1.41.59.51 0 1.02-.2 1.41-.59l7.78-7.78 2.81-2.81c.8-.78.8-2.07 0-2.86zM5.41 20L4 18.59l7.72-7.72 1.47 1.35L5.41 20z\"/>\n",
              "  </svg>\n",
              "      </button>\n",
              "      \n",
              "  <style>\n",
              "    .colab-df-container {\n",
              "      display:flex;\n",
              "      flex-wrap:wrap;\n",
              "      gap: 12px;\n",
              "    }\n",
              "\n",
              "    .colab-df-convert {\n",
              "      background-color: #E8F0FE;\n",
              "      border: none;\n",
              "      border-radius: 50%;\n",
              "      cursor: pointer;\n",
              "      display: none;\n",
              "      fill: #1967D2;\n",
              "      height: 32px;\n",
              "      padding: 0 0 0 0;\n",
              "      width: 32px;\n",
              "    }\n",
              "\n",
              "    .colab-df-convert:hover {\n",
              "      background-color: #E2EBFA;\n",
              "      box-shadow: 0px 1px 2px rgba(60, 64, 67, 0.3), 0px 1px 3px 1px rgba(60, 64, 67, 0.15);\n",
              "      fill: #174EA6;\n",
              "    }\n",
              "\n",
              "    [theme=dark] .colab-df-convert {\n",
              "      background-color: #3B4455;\n",
              "      fill: #D2E3FC;\n",
              "    }\n",
              "\n",
              "    [theme=dark] .colab-df-convert:hover {\n",
              "      background-color: #434B5C;\n",
              "      box-shadow: 0px 1px 3px 1px rgba(0, 0, 0, 0.15);\n",
              "      filter: drop-shadow(0px 1px 2px rgba(0, 0, 0, 0.3));\n",
              "      fill: #FFFFFF;\n",
              "    }\n",
              "  </style>\n",
              "\n",
              "      <script>\n",
              "        const buttonEl =\n",
              "          document.querySelector('#df-b5fcb5e7-9aa2-474c-bc71-a588b93df4d9 button.colab-df-convert');\n",
              "        buttonEl.style.display =\n",
              "          google.colab.kernel.accessAllowed ? 'block' : 'none';\n",
              "\n",
              "        async function convertToInteractive(key) {\n",
              "          const element = document.querySelector('#df-b5fcb5e7-9aa2-474c-bc71-a588b93df4d9');\n",
              "          const dataTable =\n",
              "            await google.colab.kernel.invokeFunction('convertToInteractive',\n",
              "                                                     [key], {});\n",
              "          if (!dataTable) return;\n",
              "\n",
              "          const docLinkHtml = 'Like what you see? Visit the ' +\n",
              "            '<a target=\"_blank\" href=https://colab.research.google.com/notebooks/data_table.ipynb>data table notebook</a>'\n",
              "            + ' to learn more about interactive tables.';\n",
              "          element.innerHTML = '';\n",
              "          dataTable['output_type'] = 'display_data';\n",
              "          await google.colab.output.renderOutput(dataTable, element);\n",
              "          const docLink = document.createElement('div');\n",
              "          docLink.innerHTML = docLinkHtml;\n",
              "          element.appendChild(docLink);\n",
              "        }\n",
              "      </script>\n",
              "    </div>\n",
              "  </div>\n",
              "  "
            ]
          },
          "metadata": {},
          "execution_count": 6
        }
      ]
    },
    {
      "cell_type": "code",
      "source": [
        "phishurl.shape"
      ],
      "metadata": {
        "colab": {
          "base_uri": "https://localhost:8080/"
        },
        "id": "K0EV-7uQYumr",
        "outputId": "dd26406f-8f90-4bf5-fa4b-7671edef3430"
      },
      "execution_count": 7,
      "outputs": [
        {
          "output_type": "execute_result",
          "data": {
            "text/plain": [
              "(100, 8)"
            ]
          },
          "metadata": {},
          "execution_count": 7
        }
      ]
    },
    {
      "cell_type": "code",
      "source": [
        "# importing required packages for this section\n",
        "from urllib.parse import urlparse,urlencode\n",
        "import ipaddress\n",
        "import re"
      ],
      "metadata": {
        "id": "aL7ZGIBvY7Bd"
      },
      "execution_count": 13,
      "outputs": []
    },
    {
      "cell_type": "code",
      "source": [
        "def parseDomain(url):  \n",
        "  domain = urlparse(url).netloc\n",
        "  if re.match(r\"^www.\",domain):\n",
        "\t       domain = domain.replace(\"www.\",\"\")\n",
        "  return domain"
      ],
      "metadata": {
        "id": "ICd2rtl5ZDpH"
      },
      "execution_count": 14,
      "outputs": []
    },
    {
      "cell_type": "code",
      "source": [
        "#Feature 1\n",
        "def hasIP(url):\n",
        "  try:\n",
        "    ipaddress.ip_address(url)\n",
        "    label = 1\n",
        "  except:\n",
        "    label = 0\n",
        "  return label"
      ],
      "metadata": {
        "id": "KA9fvYXzauCN"
      },
      "execution_count": 23,
      "outputs": []
    },
    {
      "cell_type": "code",
      "source": [
        "#Feature 2\n",
        "def longURL(url):\n",
        "  if len(url) < 54:\n",
        "    label = 0            \n",
        "  else:\n",
        "    label = 1            \n",
        "  return label"
      ],
      "metadata": {
        "id": "OgrFbeduc2h1"
      },
      "execution_count": 38,
      "outputs": []
    },
    {
      "cell_type": "code",
      "source": [
        "#Feature 3\n",
        "shorteningServices =  r\"bit\\.ly|goo\\.gl|shorte\\.st|go2l\\.ink|x\\.co|ow\\.ly|t\\.co|tinyurl|tr\\.im|is\\.gd|cli\\.gs|\" \\\n",
        "                      r\"yfrog\\.com|migre\\.me|ff\\.im|tiny\\.cc|url4\\.eu|twit\\.ac|su\\.pr|twurl\\.nl|snipurl\\.com|\" \\\n",
        "                      r\"short\\.to|BudURL\\.com|ping\\.fm|post\\.ly|Just\\.as|bkite\\.com|snipr\\.com|fic\\.kr|loopt\\.us|\" \\\n",
        "                      r\"doiop\\.com|short\\.ie|kl\\.am|wp\\.me|rubyurl\\.com|om\\.ly|to\\.ly|bit\\.do|t\\.co|lnkd\\.in|db\\.tt|\" \\\n",
        "                      r\"qr\\.ae|adf\\.ly|goo\\.gl|bitly\\.com|cur\\.lv|tinyurl\\.com|ow\\.ly|bit\\.ly|ity\\.im|q\\.gs|is\\.gd|\" \\\n",
        "                      r\"po\\.st|bc\\.vc|twitthis\\.com|u\\.to|j\\.mp|buzurl\\.com|cutt\\.us|u\\.bb|yourls\\.org|x\\.co|\" \\\n",
        "                      r\"prettylinkpro\\.com|scrnch\\.me|filoops\\.info|vzturl\\.com|qr\\.net|1url\\.com|tweez\\.me|v\\.gd|\" \\\n",
        "                      r\"tr\\.im|link\\.zip\\.net|7\\.ly|\""
      ],
      "metadata": {
        "id": "tMIUqODdsdsh"
      },
      "execution_count": 20,
      "outputs": []
    },
    {
      "cell_type": "code",
      "source": [
        "#Feature 3\n",
        "def tinyURL(url):\n",
        "    match=re.search(shorteningServices,url)\n",
        "    if match:\n",
        "      label = 1\n",
        "    else:\n",
        "      label = 0\n",
        "    return label"
      ],
      "metadata": {
        "id": "wivxLRj-kXlR"
      },
      "execution_count": 21,
      "outputs": []
    },
    {
      "cell_type": "code",
      "source": [
        "#Feature 4\n",
        "def hasAtSign(url):\n",
        "  #if \"@\" in url:\n",
        "   # label = 1    \n",
        "  #else:\n",
        "   # label = 0    \n",
        "  #return label\n",
        "  print(\"url: \" , url)"
      ],
      "metadata": {
        "id": "6oO2C0eXuC4f"
      },
      "execution_count": 48,
      "outputs": []
    },
    {
      "cell_type": "code",
      "source": [
        "#Feature 5\n",
        "def redirectionBackslash(url):\n",
        "  index = url.rfind('//')\n",
        "  print(\"Index of //:\" , index)\n",
        "  if index > 6:\n",
        "    return 1\n",
        "  else: \n",
        "    return 0"
      ],
      "metadata": {
        "id": "LzTlQvlYuWp-"
      },
      "execution_count": 31,
      "outputs": []
    },
    {
      "cell_type": "code",
      "source": [
        "#Feature 6\n",
        "def prefixSuffix(url):\n",
        "    #if '-' in urlparse(url).netloc:\n",
        "     #   return 1           \n",
        "    #else:\n",
        "     #   return 0   \n",
        "    if '-' in url:\n",
        "      return 1\n",
        "    else: \n",
        "      return 0\n",
        "    #a = urlparse(url).netloc\n",
        "    #print(\"a: \", a)"
      ],
      "metadata": {
        "id": "f5iTyTboHMTg"
      },
      "execution_count": 57,
      "outputs": []
    },
    {
      "cell_type": "code",
      "source": [
        "#prefixSuffix(\"https://www.legitimate.com//http://www.phishing.com\")\n",
        "#hasAtSign(\"https://www.legitimate.com//http://www.phishing.com\")"
      ],
      "metadata": {
        "colab": {
          "base_uri": "https://localhost:8080/"
        },
        "id": "-Fsjx-PSkZ92",
        "outputId": "8fa9e068-7088-42b8-e99a-cc52744639f2"
      },
      "execution_count": 62,
      "outputs": [
        {
          "output_type": "execute_result",
          "data": {
            "text/plain": [
              "0"
            ]
          },
          "metadata": {},
          "execution_count": 62
        }
      ]
    }
  ]
}